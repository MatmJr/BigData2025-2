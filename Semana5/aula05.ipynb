{
 "cells": [
  {
   "cell_type": "markdown",
   "id": "03d46f62",
   "metadata": {},
   "source": [
    "# Conectando ao Atlas\n",
    "\n",
    "Após o processo de criação de um cluster substitua a uri e o password pelo valor fornecido pelo atlas."
   ]
  },
  {
   "cell_type": "code",
   "execution_count": 4,
   "id": "ee04245f",
   "metadata": {},
   "outputs": [],
   "source": [
    "# colar aqui o código passado pelo Atlas\n",
    "\n",
    "\n"
   ]
  },
  {
   "cell_type": "markdown",
   "id": "4788cb17",
   "metadata": {},
   "source": [
    "### Acessar o banco de dados"
   ]
  },
  {
   "cell_type": "code",
   "execution_count": null,
   "id": "37bec119",
   "metadata": {},
   "outputs": [],
   "source": []
  },
  {
   "cell_type": "code",
   "execution_count": null,
   "id": "e7ecf939",
   "metadata": {},
   "outputs": [],
   "source": []
  },
  {
   "cell_type": "markdown",
   "id": "ced10729",
   "metadata": {},
   "source": [
    "## Buscas personalizadas"
   ]
  },
  {
   "cell_type": "code",
   "execution_count": null,
   "id": "ef551c96",
   "metadata": {},
   "outputs": [],
   "source": [
    "\n"
   ]
  }
 ],
 "metadata": {
  "kernelspec": {
   "display_name": ".venv",
   "language": "python",
   "name": "python3"
  },
  "language_info": {
   "codemirror_mode": {
    "name": "ipython",
    "version": 3
   },
   "file_extension": ".py",
   "mimetype": "text/x-python",
   "name": "python",
   "nbconvert_exporter": "python",
   "pygments_lexer": "ipython3",
   "version": "3.12.10"
  }
 },
 "nbformat": 4,
 "nbformat_minor": 5
}
